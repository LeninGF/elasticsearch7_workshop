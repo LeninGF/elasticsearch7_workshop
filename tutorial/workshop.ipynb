{
 "cells": [
  {
   "cell_type": "markdown",
   "metadata": {},
   "source": [
    "# ElasticSearch Indices, Mapping y Operaciones CRUD\n",
    "## Maestría en Sistemas de Información\n",
    "### Almacenamiento masivo de datos Workshop indexación\n",
    "\n",
    "El presente Workshop permitirá al estudiante familiarizarse con los conceptos de **indexación**, **maping** y las operaciones CRUD en **ElasticSearch** versión 7.5.2. Una vez conlcuido se espera del estudiante que esté en capacidad de:\n",
    "\n",
    "* Conocer los conceptos de indexación y maping y aplicarlos en la configuración de bases customizables de ElasticSearch\n",
    "* Utilizar los comandos de Kibana para las operaciones de: Create, Update, Read, Delete \n",
    "* Utilizar los comandos de python de la librería de ElasticSearch para las operaciones de: Create, Update, Read, Delete\n",
    "\n",
    "Para aplicar y afianzar los conocimientos, el estudiante realizará una aplicación Flask que permita Crear una base de datos de ElasticSearch, permita indexar información, actualizarla y borrarla. "
   ]
  },
  {
   "cell_type": "markdown",
   "metadata": {},
   "source": [
    "## Indexación Invertida:\n",
    "* ElasticSearch es una **search engine** para búsquedas rápidas, basada en Apache Lucene\n",
    "* Las búsquedas existen de dos formas: **exact term search**, **full text search**.\n",
    "* **Concepto:** Es una estructura de datos que consiste en una lista de palabras únicas del documento empatadas con una tupla que identifica el documento y la posición en la que aparece el término.\n",
    "\n",
    "<img src = \"images/inverse_indexing.png\">"
   ]
  },
  {
   "cell_type": "markdown",
   "metadata": {},
   "source": [
    "## Indexación Invertida:\n",
    "Un índice de Elasticsearch (ES) esta conformado por: una o más **shards**, que pueden tener cero o más **réplicas**.\n",
    "\n",
    "**Shard:** \n",
    "\n",
    "**Replica:**"
   ]
  },
  {
   "cell_type": "code",
   "execution_count": null,
   "metadata": {},
   "outputs": [],
   "source": []
  }
 ],
 "metadata": {
  "kernelspec": {
   "display_name": "Python 3",
   "language": "python",
   "name": "python3"
  },
  "language_info": {
   "codemirror_mode": {
    "name": "ipython",
    "version": 3
   },
   "file_extension": ".py",
   "mimetype": "text/x-python",
   "name": "python",
   "nbconvert_exporter": "python",
   "pygments_lexer": "ipython3",
   "version": "3.6.4"
  },
  "pycharm": {
   "stem_cell": {
    "cell_type": "raw",
    "metadata": {
     "collapsed": false
    },
    "source": []
   }
  }
 },
 "nbformat": 4,
 "nbformat_minor": 2
}
