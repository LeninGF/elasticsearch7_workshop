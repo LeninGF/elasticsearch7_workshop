{
 "cells": [
  {
   "cell_type": "markdown",
   "metadata": {
    "slideshow": {
     "slide_type": "slide"
    }
   },
   "source": [
    "# ElasticSearch Indices, Mapping y Operaciones CRUD\n",
    "## Maestría en Sistemas de Información\n",
    "### Almacenamiento masivo de datos Workshop indexación\n",
    "\n",
    "El presente Workshop permitirá al estudiante familiarizarse con los conceptos de **indexación**, **maping** y las operaciones CRUD en **ElasticSearch** versión 7.5.2. Una vez conlcuido se espera del estudiante que esté en capacidad de:\n",
    "\n",
    "* Conocer los conceptos de indexación y maping y aplicarlos en la configuración de bases customizables de ElasticSearch\n",
    "* Utilizar los comandos de Kibana para las operaciones de: Create, Update, Read, Delete \n",
    "* Utilizar los comandos de python de la librería de ElasticSearch para las operaciones de: Create, Update, Read, Delete\n",
    "\n",
    "Para aplicar y afianzar los conocimientos, el estudiante realizará una aplicación Flask que permita Crear una base de datos de ElasticSearch, permita indexar información, actualizarla y borrarla. "
   ]
  },
  {
   "cell_type": "markdown",
   "metadata": {
    "slideshow": {
     "slide_type": "slide"
    }
   },
   "source": [
    "## Elasticsearch términos:\n",
    "* __Documento:__ Unidad básica de informacón indexable, recuperable. (**json**)\n",
    "* **Índice:** Un índice de Elasticsearch (ES) es el nombre que recibe el espacio donde ES guarda los datos (documentos) . Está conformado por: una o más **shards**, que pueden tener cero o más **réplicas**.\n",
    "\n",
    "* **Shard:** Son contenedores ubicados en un uno o múltiples nodos. Están conformados de segmentos de *Lucene*. Un índice se divide en uno o mas **shards**. Un **shard** es un Fragmento de un índice que contiene parte de los documentos\n",
    "\n",
    "* **Replica:** Copia o duplicado de la información que  existe en el **shard primario**.\n",
    "\n",
    "* __Nodo:__ Instancia de Elastic Search; Almacena todos los documentos.\n",
    "* __Cluster:__ Conjunto de uno o más nodos. Pueden existir diferentes índices dentro de un clúster.\n",
    "* __Settings:__ Configuración del índice: # de réplicas, # de shards a nivel de cluster. Diferentes indices pueden tener diferentes valores, mientras que todos los nodos del cluster tendrán los mismos valores.\n",
    "* __Mappings:__ Modelo de datos de un índice. Campos y Tipos de dato."
   ]
  },
  {
   "cell_type": "markdown",
   "metadata": {
    "slideshow": {
     "slide_type": "subslide"
    }
   },
   "source": [
    "## Indexación Invertida:\n",
    "\n",
    "**Concepto:** \n",
    "* Es una estructura de datos que consiste en una lista de palabras únicas del documento empatadas con una tupla que identifica el documento y la posición en la que aparece el término.\n",
    "* Es un mapeo de **términos o palabras** a los **documentos**\n",
    "\n",
    "<p align=\"center\"><img src = \"images/inverse_indexing.png\"></p>"
   ]
  },
  {
   "cell_type": "markdown",
   "metadata": {
    "slideshow": {
     "slide_type": "slide"
    }
   },
   "source": [
    "## Workshop:\n",
    "### Directrices\n",
    "\n",
    "1. En las siguientes diapositivas se le presentará los comandos en **Kibana** para manipular  *Elasticsearch** y los comandos de **Python** equivalentes para el mismo efecto.\n",
    "\n",
    "2. Los índices creados con Kibana tendran la extensión **\\_ki**; como en: **empleados_ki** y las bases similares creadas con **Python** tendrán la extensión **\\_py**, como en: **empleados_py**\n",
    "\n",
    "3. Recuerde activar el servicio elastic search con:"
   ]
  },
  {
   "cell_type": "code",
   "execution_count": 2,
   "metadata": {
    "slideshow": {
     "slide_type": "fragment"
    }
   },
   "outputs": [],
   "source": [
    "!service elasticsearch start"
   ]
  },
  {
   "cell_type": "markdown",
   "metadata": {
    "slideshow": {
     "slide_type": "fragment"
    }
   },
   "source": [
    "4. Recuerde activar el servicio kibana con:"
   ]
  },
  {
   "cell_type": "code",
   "execution_count": 3,
   "metadata": {
    "slideshow": {
     "slide_type": "fragment"
    }
   },
   "outputs": [],
   "source": [
    "!service kibana start"
   ]
  },
  {
   "cell_type": "markdown",
   "metadata": {
    "slideshow": {
     "slide_type": "slide"
    }
   },
   "source": [
    "### Creando un índice con Kibana\n",
    "\n",
    "Para crear un indice con Kibana ejecutamos el código:\n",
    "\n",
    "    PUT estudiantes_maestria_ki\n",
    "    \n",
    "La respuesta obtenida es:\n",
    "\n",
    "    {\n",
    "      \"acknowledged\" : true,\n",
    "      \"shards_acknowledged\" : true,\n",
    "      \"index\" : \"estudiantes_maestria_ki\"\n",
    "    }"
   ]
  },
  {
   "cell_type": "markdown",
   "metadata": {
    "slideshow": {
     "slide_type": "subslide"
    }
   },
   "source": [
    "### Creando un índice con Python\n",
    "\n",
    "1. Importar la librería de Elasticsearch\n",
    "2. Instanciar un objeto **es** de Elasticsearch con conexión al **localhost:9200**"
   ]
  },
  {
   "cell_type": "code",
   "execution_count": 1,
   "metadata": {
    "slideshow": {
     "slide_type": "fragment"
    }
   },
   "outputs": [],
   "source": [
    "from elasticsearch import Elasticsearch\n",
    "es = Elasticsearch(\"localhost:9200\")"
   ]
  },
  {
   "cell_type": "code",
   "execution_count": 5,
   "metadata": {
    "slideshow": {
     "slide_type": "fragment"
    }
   },
   "outputs": [
    {
     "data": {
      "text/plain": [
       "{'acknowledged': True,\n",
       " 'shards_acknowledged': True,\n",
       " 'index': 'estudiantes_maestria_py'}"
      ]
     },
     "execution_count": 5,
     "metadata": {},
     "output_type": "execute_result"
    }
   ],
   "source": [
    "resp = es.indices.create(index=\"estudiantes_maestria_py\")\n",
    "resp"
   ]
  },
  {
   "cell_type": "markdown",
   "metadata": {
    "slideshow": {
     "slide_type": "subslide"
    }
   },
   "source": [
    "### Configuración de un índice\n",
    "Por defecto elasticsearch genera un indice con 1 shard y 1 réplica. Para confirmarlo utilice el comando en Kibana:\n",
    "    \n",
    "    GET estudiantes_maestria_ki/_settings?pretty\n",
    "Que devuelve:\n",
    "\n",
    "    {\n",
    "      \"estudiantes_maestria_ki\" : {\n",
    "        \"settings\" : {\n",
    "          \"index\" : {\n",
    "            \"creation_date\" : \"1581034801288\",\n",
    "            \"number_of_shards\" : \"1\",\n",
    "            \"number_of_replicas\" : \"1\",\n",
    "            \"uuid\" : \"Au4DvS54Rr-gTrbA5ayN_A\",\n",
    "            \"version\" : {\n",
    "              \"created\" : \"7050299\"\n",
    "            },\n",
    "            \"provided_name\" : \"estudiantes_maestria_ki\"\n",
    "          }\n",
    "        }\n",
    "      }\n",
    "    }"
   ]
  },
  {
   "cell_type": "markdown",
   "metadata": {
    "slideshow": {
     "slide_type": "subslide"
    }
   },
   "source": [
    "En Python se obtiene la información con el comando:"
   ]
  },
  {
   "cell_type": "code",
   "execution_count": 6,
   "metadata": {
    "slideshow": {
     "slide_type": "fragment"
    }
   },
   "outputs": [
    {
     "data": {
      "text/plain": [
       "{'estudiantes_maestria_py': {'settings': {'index': {'creation_date': '1581087827919',\n",
       "    'number_of_shards': '2',\n",
       "    'number_of_replicas': '2',\n",
       "    'uuid': 'Va-MmjrpRMOutnpPBzNZ-Q',\n",
       "    'version': {'created': '7050299'},\n",
       "    'provided_name': 'estudiantes_maestria_py'}}}}"
      ]
     },
     "execution_count": 6,
     "metadata": {},
     "output_type": "execute_result"
    }
   ],
   "source": [
    "import json\n",
    "resp = es.indices.get_settings(index=\"estudiantes_maestria_py\")\n",
    "resp"
   ]
  },
  {
   "cell_type": "markdown",
   "metadata": {
    "slideshow": {
     "slide_type": "subslide"
    }
   },
   "source": [
    "### Eliminar un índice\n",
    "Para eliminar un índice ejecute el comando de Kibana\n",
    "\n",
    "    DELETE estudiantes_maestria_ki\n",
    "    \n",
    "Que devuelve: \n",
    "\n",
    "    {\n",
    "      \"acknowledged\" : true\n",
    "    }\n",
    "\n",
    "En python:"
   ]
  },
  {
   "cell_type": "code",
   "execution_count": 3,
   "metadata": {
    "slideshow": {
     "slide_type": "fragment"
    }
   },
   "outputs": [
    {
     "data": {
      "text/plain": [
       "{'acknowledged': True}"
      ]
     },
     "execution_count": 3,
     "metadata": {},
     "output_type": "execute_result"
    }
   ],
   "source": [
    "resp = es.indices.delete(index=\"estudiantes_maestria_py\")\n",
    "resp"
   ]
  },
  {
   "cell_type": "markdown",
   "metadata": {
    "slideshow": {
     "slide_type": "slide"
    }
   },
   "source": [
    "### Settings\n",
    "Si deseamos personalizar el número de shards y réplicas usamos un documento json declarando estos valores. La declaración en Kibana queda:\n",
    "\n",
    "    PUT estudiantes_maestria_ki\n",
    "    {\n",
    "      \"settings\": {\n",
    "        \"number_of_replicas\": 2,\n",
    "        \"number_of_shards\": 2\n",
    "      }\n",
    "    }"
   ]
  },
  {
   "cell_type": "markdown",
   "metadata": {
    "slideshow": {
     "slide_type": "fragment"
    }
   },
   "source": [
    "De forma similar en python esto se haría declarando un diccionario"
   ]
  },
  {
   "cell_type": "code",
   "execution_count": 5,
   "metadata": {
    "slideshow": {
     "slide_type": "fragment"
    }
   },
   "outputs": [
    {
     "data": {
      "text/plain": [
       "{'acknowledged': True,\n",
       " 'shards_acknowledged': True,\n",
       " 'index': 'estudiantes_maestria_py'}"
      ]
     },
     "execution_count": 5,
     "metadata": {},
     "output_type": "execute_result"
    }
   ],
   "source": [
    "settings_dict = {\"settings\": {\"number_of_replicas\":2, \"number_of_shards\":2}}\n",
    "resp = es.indices.create(index=\"estudiantes_maestria_py\", body=settings_dict)\n",
    "resp"
   ]
  },
  {
   "cell_type": "markdown",
   "metadata": {
    "slideshow": {
     "slide_type": "slide"
    }
   },
   "source": [
    "### Mappings\n"
   ]
  }
 ],
 "metadata": {
  "celltoolbar": "Slideshow",
  "kernelspec": {
   "display_name": "Python 3",
   "language": "python",
   "name": "python3"
  },
  "language_info": {
   "codemirror_mode": {
    "name": "ipython",
    "version": 3
   },
   "file_extension": ".py",
   "mimetype": "text/x-python",
   "name": "python",
   "nbconvert_exporter": "python",
   "pygments_lexer": "ipython3",
   "version": "3.6.4"
  },
  "pycharm": {
   "stem_cell": {
    "cell_type": "raw",
    "metadata": {
     "collapsed": false
    },
    "source": []
   }
  }
 },
 "nbformat": 4,
 "nbformat_minor": 2
}
