{
 "cells": [
  {
   "cell_type": "markdown",
   "metadata": {
    "slideshow": {
     "slide_type": "slide"
    }
   },
   "source": [
    "# ElasticSearch Indices, Mapping y Operaciones CRUD\n",
    "## Maestría en Sistemas de Información\n",
    "### Almacenamiento masivo de datos Workshop indexación\n",
    "\n",
    "El presente Workshop permitirá al estudiante familiarizarse con los conceptos de **indexación**, **maping** y las operaciones CRUD en **ElasticSearch** versión 7.5.2. Una vez conlcuido se espera del estudiante que esté en capacidad de:\n",
    "\n",
    "* Conocer los conceptos de indexación y maping y aplicarlos en la configuración de bases customizables de ElasticSearch\n",
    "* Utilizar los comandos de Kibana para las operaciones de: Create, Update, Read, Delete \n",
    "* Utilizar los comandos de python de la librería de ElasticSearch para las operaciones de: Create, Update, Read, Delete\n",
    "\n",
    "Para aplicar y afianzar los conocimientos, el estudiante realizará una aplicación Flask que permita Crear una base de datos de ElasticSearch, permita indexar información, actualizarla y borrarla. "
   ]
  },
  {
   "cell_type": "markdown",
   "metadata": {
    "slideshow": {
     "slide_type": "slide"
    }
   },
   "source": [
    "## Elasticsearch términos:\n",
    "* __Documento:__ Unidad básica de informacón indexable, recuperable. (**json**)\n",
    "* **Índice:** Un índice de Elasticsearch (ES) es el nombre que recibe el espacio donde ES guarda los datos (documentos) . Está conformado por: una o más **shards**, que pueden tener cero o más **réplicas**.\n",
    "\n",
    "* **Shard:** Son contenedores ubicados en un uno o múltiples nodos. Están conformados de segmentos de *Lucene*. Un índice se divide en uno o mas **shards**. Un **shard** es un Fragmento de un índice que contiene parte de los documentos\n",
    "\n",
    "* **Replica:** Copia o duplicado de la información que  existe en el **shard primario**.\n",
    "\n",
    "* __Nodo:__ Instancia de Elastic Search; Almacena todos los documentos.\n",
    "* __Cluster:__ Conjunto de uno o más nodos. Pueden existir diferentes índices dentro de un clúster.\n",
    "* __Settings:__ Configuración del índice: # de réplicas, # de shards a nivel de cluster. Diferentes indices pueden tener diferentes valores, mientras que todos los nodos del cluster tendrán los mismos valores.\n",
    "* __Mappings:__ Modelo de datos de un índice. Campos y Tipos de dato."
   ]
  },
  {
   "cell_type": "markdown",
   "metadata": {
    "slideshow": {
     "slide_type": "subslide"
    }
   },
   "source": [
    "## Indexación Invertida:\n",
    "\n",
    "**Concepto:** \n",
    "* Es una estructura de datos que consiste en una lista de palabras únicas del documento empatadas con una tupla que identifica el documento y la posición en la que aparece el término.\n",
    "* Es un mapeo de **términos o palabras** a los **documentos**\n",
    "\n",
    "<p align=\"center\"><img src = \"images/inverse_indexing.png\"></p>"
   ]
  },
  {
   "cell_type": "markdown",
   "metadata": {
    "slideshow": {
     "slide_type": "slide"
    }
   },
   "source": [
    "## Workshop:\n",
    "### Directrices\n",
    "\n",
    "1. En las siguientes diapositivas se le presentará los comandos en **Kibana** para manipular  *Elasticsearch** y los comandos de **Python** equivalentes para el mismo efecto.\n",
    "\n",
    "2. Los índices creados con Kibana tendran la extensión **\\_ki**; como en: **empleados_ki** y las bases similares creadas con **Python** tendrán la extensión **\\_py**, como en: **empleados_py**\n",
    "\n",
    "3. Recuerde activar el servicio elastic search con:"
   ]
  },
  {
   "cell_type": "code",
   "execution_count": 2,
   "metadata": {
    "slideshow": {
     "slide_type": "fragment"
    }
   },
   "outputs": [],
   "source": [
    "!service elasticsearch start"
   ]
  },
  {
   "cell_type": "markdown",
   "metadata": {
    "slideshow": {
     "slide_type": "fragment"
    }
   },
   "source": [
    "4. Recuerde activar el servicio kibana con:"
   ]
  },
  {
   "cell_type": "code",
   "execution_count": 3,
   "metadata": {
    "slideshow": {
     "slide_type": "fragment"
    }
   },
   "outputs": [],
   "source": [
    "!service kibana start"
   ]
  },
  {
   "cell_type": "markdown",
   "metadata": {
    "slideshow": {
     "slide_type": "slide"
    }
   },
   "source": [
    "### Creando un índice con Kibana\n",
    "\n",
    "Para crear un indice con Kibana ejecutamos el código:\n",
    "\n",
    "    PUT estudiantes_maestria_ki\n",
    "    \n",
    "La respuesta obtenida es:\n",
    "\n",
    "    {\n",
    "      \"acknowledged\" : true,\n",
    "      \"shards_acknowledged\" : true,\n",
    "      \"index\" : \"estudiantes_maestria_ki\"\n",
    "    }"
   ]
  },
  {
   "cell_type": "markdown",
   "metadata": {
    "slideshow": {
     "slide_type": "subslide"
    }
   },
   "source": [
    "### Creando un índice con Python\n",
    "\n",
    "1. Importar la librería de Elasticsearch\n",
    "2. Instanciar un objeto **es** de Elasticsearch con conexión al **localhost:9200**"
   ]
  },
  {
   "cell_type": "code",
   "execution_count": 1,
   "metadata": {
    "slideshow": {
     "slide_type": "fragment"
    }
   },
   "outputs": [],
   "source": [
    "from elasticsearch import Elasticsearch\n",
    "es = Elasticsearch(\"localhost:9200\")"
   ]
  },
  {
   "cell_type": "code",
   "execution_count": 5,
   "metadata": {
    "slideshow": {
     "slide_type": "fragment"
    }
   },
   "outputs": [
    {
     "data": {
      "text/plain": [
       "{'acknowledged': True,\n",
       " 'shards_acknowledged': True,\n",
       " 'index': 'estudiantes_maestria_py'}"
      ]
     },
     "execution_count": 5,
     "metadata": {},
     "output_type": "execute_result"
    }
   ],
   "source": [
    "resp = es.indices.create(index=\"estudiantes_maestria_py\")\n",
    "resp"
   ]
  },
  {
   "cell_type": "markdown",
   "metadata": {
    "slideshow": {
     "slide_type": "subslide"
    }
   },
   "source": [
    "### Configuración de un índice\n",
    "Por defecto elasticsearch genera un indice con 1 shard y 1 réplica. Para confirmarlo utilice el comando en Kibana:\n",
    "    \n",
    "    GET estudiantes_maestria_ki/_settings?pretty\n",
    "Que devuelve:\n",
    "\n",
    "    {\n",
    "      \"estudiantes_maestria_ki\" : {\n",
    "        \"settings\" : {\n",
    "          \"index\" : {\n",
    "            \"creation_date\" : \"1581034801288\",\n",
    "            \"number_of_shards\" : \"1\",\n",
    "            \"number_of_replicas\" : \"1\",\n",
    "            \"uuid\" : \"Au4DvS54Rr-gTrbA5ayN_A\",\n",
    "            \"version\" : {\n",
    "              \"created\" : \"7050299\"\n",
    "            },\n",
    "            \"provided_name\" : \"estudiantes_maestria_ki\"\n",
    "          }\n",
    "        }\n",
    "      }\n",
    "    }"
   ]
  },
  {
   "cell_type": "markdown",
   "metadata": {
    "slideshow": {
     "slide_type": "subslide"
    }
   },
   "source": [
    "En Python se obtiene la información con el comando:"
   ]
  },
  {
   "cell_type": "code",
   "execution_count": 6,
   "metadata": {
    "slideshow": {
     "slide_type": "fragment"
    }
   },
   "outputs": [
    {
     "data": {
      "text/plain": [
       "{'estudiantes_maestria_py': {'settings': {'index': {'creation_date': '1581087827919',\n",
       "    'number_of_shards': '2',\n",
       "    'number_of_replicas': '2',\n",
       "    'uuid': 'Va-MmjrpRMOutnpPBzNZ-Q',\n",
       "    'version': {'created': '7050299'},\n",
       "    'provided_name': 'estudiantes_maestria_py'}}}}"
      ]
     },
     "execution_count": 6,
     "metadata": {},
     "output_type": "execute_result"
    }
   ],
   "source": [
    "import json\n",
    "resp = es.indices.get_settings(index=\"estudiantes_maestria_py\")\n",
    "resp"
   ]
  },
  {
   "cell_type": "markdown",
   "metadata": {
    "slideshow": {
     "slide_type": "subslide"
    }
   },
   "source": [
    "### Eliminar un índice\n",
    "Para eliminar un índice ejecute el comando de Kibana\n",
    "\n",
    "    DELETE estudiantes_maestria_ki\n",
    "    \n",
    "Que devuelve: \n",
    "\n",
    "    {\n",
    "      \"acknowledged\" : true\n",
    "    }\n",
    "\n",
    "En python:"
   ]
  },
  {
   "cell_type": "code",
   "execution_count": 3,
   "metadata": {
    "slideshow": {
     "slide_type": "fragment"
    }
   },
   "outputs": [
    {
     "data": {
      "text/plain": [
       "{'acknowledged': True}"
      ]
     },
     "execution_count": 3,
     "metadata": {},
     "output_type": "execute_result"
    }
   ],
   "source": [
    "resp = es.indices.delete(index=\"estudiantes_maestria_py\")\n",
    "resp"
   ]
  },
  {
   "cell_type": "markdown",
   "metadata": {
    "slideshow": {
     "slide_type": "slide"
    }
   },
   "source": [
    "### Settings\n",
    "Si deseamos personalizar el número de shards y réplicas usamos un documento json declarando estos valores. La declaración en Kibana queda:\n",
    "\n",
    "    PUT estudiantes_maestria_ki\n",
    "    {\n",
    "      \"settings\": {\n",
    "        \"number_of_replicas\": 2,\n",
    "        \"number_of_shards\": 2\n",
    "      }\n",
    "    }"
   ]
  },
  {
   "cell_type": "markdown",
   "metadata": {
    "slideshow": {
     "slide_type": "fragment"
    }
   },
   "source": [
    "De forma similar en python esto se haría declarando un diccionario"
   ]
  },
  {
   "cell_type": "code",
   "execution_count": 5,
   "metadata": {
    "slideshow": {
     "slide_type": "fragment"
    }
   },
   "outputs": [
    {
     "data": {
      "text/plain": [
       "{'acknowledged': True,\n",
       " 'shards_acknowledged': True,\n",
       " 'index': 'estudiantes_maestria_py'}"
      ]
     },
     "execution_count": 5,
     "metadata": {},
     "output_type": "execute_result"
    }
   ],
   "source": [
    "settings_dict = {\"settings\": {\"number_of_replicas\":2, \"number_of_shards\":2}}\n",
    "resp = es.indices.create(index=\"estudiantes_maestria_py\", body=settings_dict)\n",
    "resp"
   ]
  },
  {
   "cell_type": "markdown",
   "metadata": {
    "slideshow": {
     "slide_type": "slide"
    }
   },
   "source": [
    "### Mappings\n",
    "\n",
    "Es el proceso de definir cómo un documento y los campos que contiene se guardan e indexan. Un mapping contiene:\n",
    "1. Meta-fields: son campos de meta datos como: \\_index, \\_type, \\_id y \\_source\n",
    "2. Fields: lista de propiedades del documento. Cada campo (Field) tiene un tipo de dato que puede ser:\n",
    "    * sencillos: text, keyword, date, long, double, boolean, ip\n",
    "    * jerárquicos: object, nested\n",
    "    * especializados: geo_point, geo_shape, completion\n",
    "    \n",
    "**Nota 1:** A partir de la versión 7, los mapping types están declarados obsoletos.\n",
    "**Nota 2:** No es necesaria la declaración de los campos y sus tipos de datos para crear el índice gracias al **dynamic_mapping**."
   ]
  },
  {
   "cell_type": "markdown",
   "metadata": {
    "slideshow": {
     "slide_type": "subslide"
    }
   },
   "source": [
    "### Mappings:\n",
    "Suponga un documento estudiante con las propiedades siguientes: \n",
    "* nombre,\n",
    "* apellido\n",
    "* Cédula de identidad\n",
    "* email\n",
    "* edad\n",
    "* fecha de ingreso al curso\n",
    "\n",
    "Declare el **explicit mapping** para el **index** _estudiantes_maestria_py_"
   ]
  },
  {
   "cell_type": "markdown",
   "metadata": {
    "slideshow": {
     "slide_type": "subslide"
    }
   },
   "source": [
    "En kibanna se procede:\n",
    "\n",
    "    PUT estudiantes_maestria_ki\n",
    "    {\n",
    "      \"mappings\": {\n",
    "        \"properties\": {\n",
    "          \"nombre\": {\"type\": \"text\"},\n",
    "          \"apellido\": {\"type\": \"text\"},\n",
    "          \"cedula_identidad\": {\"type\": \"keyword\"},\n",
    "          \"email\":{\"type\": \"keyword\"},\n",
    "          \"edad\": {\"type\": \"integer\"},\n",
    "          \"fecha_ingreso\":{\"type\": \"date\", \"format\": \"date\"}\n",
    "        }\n",
    "      }\n",
    "    }"
   ]
  },
  {
   "cell_type": "markdown",
   "metadata": {
    "slideshow": {
     "slide_type": "subslide"
    }
   },
   "source": [
    "En python se declara el diccionario o se lee el archivo json con la configuración:"
   ]
  },
  {
   "cell_type": "code",
   "execution_count": 8,
   "metadata": {
    "slideshow": {
     "slide_type": "fragment"
    }
   },
   "outputs": [
    {
     "data": {
      "text/plain": [
       "{'acknowledged': True}"
      ]
     },
     "execution_count": 8,
     "metadata": {},
     "output_type": "execute_result"
    }
   ],
   "source": [
    "estudiante_mapping = {\n",
    "                        \"properties\": {\n",
    "                          \"nombre\": {\"type\": \"text\"},\n",
    "                          \"apellido\": {\"type\": \"text\"},\n",
    "                          \"cedula_identidad\": {\"type\": \"keyword\"},\n",
    "                          \"email\":{\"type\": \"keyword\"},\n",
    "                          \"edad\": {\"type\": \"integer\"},\n",
    "                          \"fecha_ingreso\":{\"type\": \"date\", \"format\": \"date\"}\n",
    "                        }\n",
    "                     }\n",
    "resp = es.indices.put_mapping(index=\"estudiantes_maestria_py\", body=estudiante_mapping)\n",
    "resp"
   ]
  },
  {
   "cell_type": "markdown",
   "metadata": {
    "slideshow": {
     "slide_type": "slide"
    }
   },
   "source": [
    "### Indexación de Documentos\n",
    "\n",
    "Escriba un documento json con sus datos personales e indexelos dentro del índice **estudiantes_maestria**.\n",
    "\n",
    "En Kibana:\n",
    "\n",
    "    PUT estudiantes_maestria_ki/_doc/1\n",
    "    {\n",
    "      \"nombre\": \"Carl\",\n",
    "      \"apellido\": \"Sagan\",\n",
    "      \"cedula_identidad\": 1234567890,\n",
    "      \"email\":\"carl.sagan@alien.com\",\n",
    "      \"edad\": 99,\n",
    "      \"fecha_ingreso\":\"1934-11-09\"\n",
    "    }\n"
   ]
  },
  {
   "cell_type": "markdown",
   "metadata": {
    "slideshow": {
     "slide_type": "subslide"
    }
   },
   "source": [
    "En python:"
   ]
  },
  {
   "cell_type": "code",
   "execution_count": 9,
   "metadata": {
    "slideshow": {
     "slide_type": "fragment"
    }
   },
   "outputs": [
    {
     "data": {
      "text/plain": [
       "{'_index': 'estudiantes_maestria_py',\n",
       " '_type': '_doc',\n",
       " '_id': '1',\n",
       " '_version': 1,\n",
       " 'result': 'created',\n",
       " '_shards': {'total': 3, 'successful': 1, 'failed': 0},\n",
       " '_seq_no': 0,\n",
       " '_primary_term': 1}"
      ]
     },
     "execution_count": 9,
     "metadata": {},
     "output_type": "execute_result"
    }
   ],
   "source": [
    "mis_datos = { \"nombre\": \"Carl\",\n",
    "              \"apellido\": \"Sagan\",\n",
    "              \"cedula_identidad\": 1234567890,\n",
    "              \"email\":\"carl.sagan@alien.com\",\n",
    "              \"edad\": 99,\n",
    "              \"fecha_ingreso\":\"1934-11-09\"}\n",
    "\n",
    "resp = es.index(index=\"estudiantes_maestria_py\", body=mis_datos, id=1)\n",
    "resp"
   ]
  },
  {
   "cell_type": "markdown",
   "metadata": {
    "slideshow": {
     "slide_type": "subslide"
    }
   },
   "source": [
    "* **Nota 1:** Si no existiera el índice, este se crea al utilizar el comando **index** en python o PUT en la consola de Kibana, por lo que no es necesario crear de antemano el índice. Además la declaración de los campos y sus tipos puede ser actualizada.\n",
    "* **Nota 2:** Si el campo id no es declarado, elasticsearch atribuye genera una cláve id automáticamente. Como ejercicio, ingrese otro estudiante pero esta vez no declare el valo de id.\n",
    "* **Nota 3:** Si cambia los datos pero los indexa en el mismo **id**, el dato actual será actualizado. Elasticsearch en la operación de **GET** devuelve un metadato llamdo *version* que cuenta los cambios que recibe el respectivo documento."
   ]
  },
  {
   "cell_type": "code",
   "execution_count": 10,
   "metadata": {
    "slideshow": {
     "slide_type": "subslide"
    }
   },
   "outputs": [
    {
     "data": {
      "text/plain": [
       "{'_index': 'estudiantes_maestria_py',\n",
       " '_type': '_doc',\n",
       " '_id': '_8KvIXAB7_oskeqkbHtF',\n",
       " '_version': 1,\n",
       " 'result': 'created',\n",
       " '_shards': {'total': 3, 'successful': 1, 'failed': 0},\n",
       " '_seq_no': 1,\n",
       " '_primary_term': 1}"
      ]
     },
     "execution_count": 10,
     "metadata": {},
     "output_type": "execute_result"
    }
   ],
   "source": [
    "mis_datos = { \"nombre\": \"Richard\",\n",
    "              \"apellido\": \"Dawkins\",\n",
    "              \"cedula_identidad\": 9078563412,\n",
    "              \"email\":\"richard.dawkins@soyateo.com\",\n",
    "              \"edad\": 99,\n",
    "              \"fecha_ingreso\":\"1941-03-26\"}\n",
    "\n",
    "resp = es.index(index=\"estudiantes_maestria_py\", body=mis_datos)\n",
    "resp"
   ]
  },
  {
   "cell_type": "markdown",
   "metadata": {
    "slideshow": {
     "slide_type": "slide"
    }
   },
   "source": [
    "### Ejercicio de Aplicación:\n",
    "\n",
    "Dada la lista de documentos de estudiantes candidatos a la maestria, denominada \"candidatos.json\", escriba un código python de indexación"
   ]
  },
  {
   "cell_type": "markdown",
   "metadata": {
    "slideshow": {
     "slide_type": "subslide"
    }
   },
   "source": [
    "### Solución:"
   ]
  },
  {
   "cell_type": "code",
   "execution_count": 2,
   "metadata": {
    "slideshow": {
     "slide_type": "fragment"
    }
   },
   "outputs": [
    {
     "name": "stdout",
     "output_type": "stream",
     "text": [
      "Candidato 0 ha sido created\n",
      "Candidato 1 ha sido created\n",
      "Candidato 2 ha sido created\n",
      "Candidato 3 ha sido created\n",
      "Candidato 4 ha sido created\n",
      "Candidato 5 ha sido created\n"
     ]
    }
   ],
   "source": [
    "import json\n",
    "with open('json_docs/candidatos.json', 'r') as f:\n",
    "    candidatos_dict = json.load(f)\n",
    "    \n",
    "for i, candidato in enumerate(candidatos_dict):\n",
    "    resp = es.index(index='master_candidates', body=candidato, id=i)\n",
    "    print('Candidato {} ha sido {}'.format(i, resp['result']))\n"
   ]
  },
  {
   "cell_type": "markdown",
   "metadata": {
    "slideshow": {
     "slide_type": "subslide"
    }
   },
   "source": [
    "### Indexación por Bulk\n",
    "\n",
    "Bulk se utiliza para hacer múltiples operaciones de indexado, eliminación o actualización en una sola llamada para reducir el **overhead** en la indexación e incrementar la velocidad.\n",
    "\n",
    "Esta operación requiere que el documento se escriba en formato NDJSON"
   ]
  },
  {
   "cell_type": "markdown",
   "metadata": {
    "slideshow": {
     "slide_type": "fragment"
    }
   },
   "source": [
    "    POST _bulk\n",
    "    { \"index\" : { \"_index\" : \"test\", \"_id\" : \"1\" } }\n",
    "    { \"field1\" : \"value1\" }\n",
    "    { \"delete\" : { \"_index\" : \"test\", \"_id\" : \"2\" } }\n",
    "    { \"create\" : { \"_index\" : \"test\", \"_id\" : \"3\" } }\n",
    "    { \"field1\" : \"value3\" }\n",
    "    { \"update\" : {\"_id\" : \"1\", \"_index\" : \"test\"} }\n",
    "    { \"doc\" : {\"field2\" : \"value2\"} }\n",
    "    \n",
    "## Utiliza Bulk en la consola de Kibana para ingresar los datos del ejercicio anterior"
   ]
  },
  {
   "cell_type": "markdown",
   "metadata": {
    "slideshow": {
     "slide_type": "subslide"
    }
   },
   "source": [
    "Para el ejericio anterior, se puede ingresar los candidatos en la consola de Kibana de la siguiente manera:\n",
    "\n",
    "    POST _bulk\n",
    "    {\"index\":{\"_index\": \"master_candidates_kibana\", \"_id\":1}}\n",
    "    { \"nombre\": \"Carl\", \"apellido\": \"Sagan\", \"cedula_identidad\": 1234567890, \"email\":\"carl.sagan@alien.com\", \"profesion\": \"astrofísica\", \"libro_escrito\": \"La diversidad de la ciencia\", \"edad\": 86, \"fecha_ingreso\":\"1934-11-09\" }\n",
    "    {\"index\":{\"_index\": \"master_candidates_kibana\", \"_id\":2}}\n",
    "    { \"nombre\": \"Richard\", \"apellido\": \"Dawkins\", \"cedula_identidad\": 9078563412, \"email\":\"richard.dawkins@nogod.com\", \"profesion\": \"astrofísica\", \"libro_escrito\": \"el espejismo de dios\", \"edad\": 79, \"fecha_ingreso\":\"1941-03-26\"}\n",
    "    {\"index\":{\"_index\": \"master_candidates_kibana\", \"_id\":3}}\n",
    "    { \"nombre\": \"Stephen\", \"apellido\": \"Hawking\", \"cedula_identidad\": 1234567890, \"email\":\"stephen.hawking@timeisablackhole.com\", \"profesion\": \"física teórica\", \"libro_escrito\": \"historia del tiempo\", \"edad\": 78, \"fecha_ingreso\":\"1942-01-08\"}\n",
    "    {\"index\":{\"_index\": \"master_candidates_kibana\", \"_id\":4}}\n",
    "    { \"nombre\": \"Geoffrey\", \"apellido\": \"Hinton\", \"cedula_identidad\": 4559879077, \"email\":\"geoffrey.hinton@backpropagationworks.com\", \"profesion\": \"machine learning\", \"libro_escrito\": \"Artificial Intelligence a Modern Approach\", \"edad\": 73, \"fecha_ingreso\":\"1947-12-06\"}\n",
    "    {\"index\":{\"_index\": \"master_candidates_kibana\", \"_id\":5}}\n",
    "    {\"nombre\": \"Alan\",\"apellido\": \"Turing\", \"cedula_identidad\": 8803373682, \"email\":\"alan.turing@thisisnpcomplete.com\",  \"profesion\": \"matemática\", \"edad\": 108, \"fecha_ingreso\":\"1912-06-23\"}\n"
   ]
  },
  {
   "cell_type": "markdown",
   "metadata": {
    "slideshow": {
     "slide_type": "subslide"
    }
   },
   "source": [
    "### Utilizando bulk en Python para indexar\n",
    "\n",
    "Se puede utilizar la información que se dispone en el archivo **candidatos.json** para constuir **on the fly** la estructura **NDJSON** y así indexar en **bulk** con python. Para esto cree una nueva base de datos **master_candidates_bulk_py**"
   ]
  },
  {
   "cell_type": "code",
   "execution_count": 3,
   "metadata": {
    "slideshow": {
     "slide_type": "fragment"
    }
   },
   "outputs": [
    {
     "name": "stdout",
     "output_type": "stream",
     "text": [
      "{'response': 1}\n",
      "{'response': 2}\n",
      "{'response': 3}\n",
      "{'response': 4}\n",
      "{'response': 5}\n",
      "{'response': 6}\n"
     ]
    }
   ],
   "source": [
    "from elasticsearch.helpers import bulk\n",
    "\n",
    "actions = []\n",
    "resp = {'response': 'Oops'}\n",
    "for i, candidato in enumerate(candidatos_dict):\n",
    "    actions.append({\"_op_type\": \"index\",\n",
    "                   \"_index\": \"master_candidates_bulk_py\",\n",
    "                   \"_id\": i+1,\n",
    "                   \"_source\": candidato})\n",
    "    result_tmp = bulk(es, actions=actions)\n",
    "    resp = {'response': result_tmp[0]}\n",
    "    print(resp)"
   ]
  },
  {
   "cell_type": "markdown",
   "metadata": {
    "slideshow": {
     "slide_type": "subslide"
    }
   },
   "source": [
    "## Utiliza el add-on Elasticsearch Head de Google Chrome y verifica las indexaciones realizadas"
   ]
  },
  {
   "cell_type": "markdown",
   "metadata": {
    "slideshow": {
     "slide_type": "slide"
    }
   },
   "source": [
    "### Operación de Lectura\n",
    "La operación de lectura permite recuperar un documento indexado.\n",
    "\n",
    "**En Kibana**\n",
    "    \n",
    "    GET master_candidates/_doc/3\n",
    "    \n",
    "**En Python**\n"
   ]
  },
  {
   "cell_type": "code",
   "execution_count": 26,
   "metadata": {
    "slideshow": {
     "slide_type": "fragment"
    }
   },
   "outputs": [
    {
     "data": {
      "text/plain": [
       "{'response': 'no posible leer id 8 del index master_candidates, debido a NotFoundError(404, \\'{\"_index\":\"master_candidates\",\"_type\":\"_doc\",\"_id\":\"8\",\"found\":false}\\')'}"
      ]
     },
     "execution_count": 26,
     "metadata": {},
     "output_type": "execute_result"
    }
   ],
   "source": [
    "index_name = \"master_candidates\"\n",
    "id_number = 8\n",
    "try:\n",
    "    resp = es.get(index=index_name, id=id_number)\n",
    "except Exception as messenger:\n",
    "    resp = {'response': \"no posible leer id {} del index {}, debido a {}\".format(id_number, index_name, messenger)}\n",
    "resp"
   ]
  },
  {
   "cell_type": "markdown",
   "metadata": {
    "slideshow": {
     "slide_type": "slide"
    }
   },
   "source": [
    "### Operación de Actualización\n",
    "Permite ejecutar operaciones para actualizar o eliminar un documento en un índice.\n",
    "\n",
    "Para el ejercicio realizado añadir el campo \"articulo_principal\" en el $ID=5$\n",
    "\n",
    "**Kibana**\n",
    "\n",
    "    POST master_candidates_kibana/_update/5\n",
    "    {\n",
    "      \"doc\":{\n",
    "        \"articulo_principal\": \"Entscheidungsproblem\"\n",
    "      }\n",
    "    }"
   ]
  },
  {
   "cell_type": "markdown",
   "metadata": {
    "slideshow": {
     "slide_type": "slide"
    }
   },
   "source": [
    "### Operación de Actualización\n",
    "\n",
    "**Python**"
   ]
  },
  {
   "cell_type": "code",
   "execution_count": 29,
   "metadata": {
    "slideshow": {
     "slide_type": "fragment"
    }
   },
   "outputs": [
    {
     "data": {
      "text/plain": [
       "{'_index': 'master_candidates',\n",
       " '_type': '_doc',\n",
       " '_id': '4',\n",
       " '_version': 2,\n",
       " 'result': 'updated',\n",
       " '_shards': {'total': 2, 'successful': 1, 'failed': 0},\n",
       " '_seq_no': 5,\n",
       " '_primary_term': 1}"
      ]
     },
     "execution_count": 29,
     "metadata": {},
     "output_type": "execute_result"
    }
   ],
   "source": [
    "doc = {\"doc\":{\"articulo_principal\": \"Entscheidungsproblem\"}}\n",
    "resp = es.update(index=\"master_candidates\", id=4, body=doc)\n",
    "resp"
   ]
  },
  {
   "cell_type": "markdown",
   "metadata": {
    "slideshow": {
     "slide_type": "slide"
    }
   },
   "source": [
    "### Eliminación de Documentos\n",
    "\n",
    "**Kibana**\n",
    "\n",
    "    DELETE master_candidates_kibana/_doc/6\n",
    "\n",
    "**Python**"
   ]
  },
  {
   "cell_type": "code",
   "execution_count": 5,
   "metadata": {
    "slideshow": {
     "slide_type": "fragment"
    }
   },
   "outputs": [
    {
     "data": {
      "text/plain": [
       "{'_index': 'master_candidates_bulk_py',\n",
       " '_type': '_doc',\n",
       " '_id': '6',\n",
       " '_version': 2,\n",
       " 'result': 'deleted',\n",
       " '_shards': {'total': 2, 'successful': 1, 'failed': 0},\n",
       " '_seq_no': 21,\n",
       " '_primary_term': 1}"
      ]
     },
     "execution_count": 5,
     "metadata": {},
     "output_type": "execute_result"
    }
   ],
   "source": [
    "index_name = \"master_candidates_bulk_py\"\n",
    "id_number = 6\n",
    "try:\n",
    "    resp = es.delete(index=index_name, id=id_number)\n",
    "except Exception as ex:\n",
    "    print(\"No se pudo eliminar id={} en indice: {} debido a {}\".format(index_name, id_number, ex))\n",
    "resp"
   ]
  },
  {
   "cell_type": "markdown",
   "metadata": {
    "slideshow": {
     "slide_type": "slide"
    }
   },
   "source": [
    "## Taller de Evaluación:\n",
    "\n",
    "Realizar una aplicación WEB con Flask para aplicar las operaciones de Create, Read, Index, Update y Delete. Desarrolle una página web para cada funcionalidad.\n",
    "\n",
    "Para esto utilice los datos disponibles en formato json en: https://swapi.co/api/people/ u otra referencia de su preferencia.\n",
    "\n",
    "Puede considerar como guía el código disponible en:\n",
    "\n",
    "* https://tryolabs.com/blog/2015/02/17/python-elasticsearch-first-steps/\n",
    "* https://github.com/LeninGF/flask_elasticsearch_7"
   ]
  }
 ],
 "metadata": {
  "celltoolbar": "Slideshow",
  "kernelspec": {
   "display_name": "Python 3",
   "language": "python",
   "name": "python3"
  },
  "language_info": {
   "codemirror_mode": {
    "name": "ipython",
    "version": 3
   },
   "file_extension": ".py",
   "mimetype": "text/x-python",
   "name": "python",
   "nbconvert_exporter": "python",
   "pygments_lexer": "ipython3",
   "version": "3.6.4"
  },
  "pycharm": {
   "stem_cell": {
    "cell_type": "raw",
    "metadata": {
     "collapsed": false
    },
    "source": []
   }
  }
 },
 "nbformat": 4,
 "nbformat_minor": 2
}
