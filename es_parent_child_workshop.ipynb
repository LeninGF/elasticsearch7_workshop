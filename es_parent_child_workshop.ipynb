{
 "cells": [
  {
   "cell_type": "code",
   "execution_count": 116,
   "metadata": {
    "pycharm": {
     "is_executing": false
    }
   },
   "outputs": [],
   "source": [
    "from elasticsearch import Elasticsearch"
   ]
  },
  {
   "cell_type": "markdown",
   "metadata": {
    "pycharm": {
     "name": "#%% md\n"
    }
   },
   "source": [
    "Definiendo variables globales e instanciando\n",
    "elasticserach service"
   ]
  },
  {
   "cell_type": "code",
   "execution_count": 131,
   "metadata": {
    "pycharm": {
     "is_executing": false,
     "name": "#%%\n"
    }
   },
   "outputs": [
    {
     "data": {
      "text/plain": [
       "{'.kibana': {'aliases': {},\n",
       "  'mappings': {'properties': {'config': {'properties': {'buildNum': {'type': 'long'}}},\n",
       "    'type': {'type': 'text',\n",
       "     'fields': {'keyword': {'type': 'keyword', 'ignore_above': 256}}},\n",
       "    'updated_at': {'type': 'date'}}},\n",
       "  'settings': {'index': {'creation_date': '1580752202642',\n",
       "    'number_of_shards': '1',\n",
       "    'number_of_replicas': '1',\n",
       "    'uuid': '4Obko96aQYu7ucjTBmFknA',\n",
       "    'version': {'created': '7050299'},\n",
       "    'provided_name': '.kibana'}}}}"
      ]
     },
     "execution_count": 131,
     "metadata": {},
     "output_type": "execute_result"
    }
   ],
   "source": [
    "HOST = 'localhost:9200'\n",
    "\n",
    "es = Elasticsearch(hosts=HOST)\n",
    "es.indices.get(\"_all\")"
   ]
  },
  {
   "cell_type": "markdown",
   "metadata": {},
   "source": [
    "Crear un  index llamado **es_workshop** con mapping tipo parent-child, donde:\n",
    "\n",
    "**Parent**: Usuario\n",
    "* user_name\n",
    "* user_code\n",
    "* user_time_stamp\n",
    "\n",
    "**Child**: Sensor\n",
    "* Todas las caracteristicas de las medidas ingresadas\n"
   ]
  },
  {
   "cell_type": "code",
   "execution_count": 137,
   "metadata": {
    "pycharm": {
     "is_executing": false,
     "name": "#%%\n"
    }
   },
   "outputs": [],
   "source": [
    "mapping = {\n",
    "  \"settings\": {\n",
    "    \"number_of_replicas\": 0,\n",
    "    \"number_of_shards\": 1\n",
    "  },\n",
    "  \"mappings\": {\n",
    "    \"properties\": {\n",
    "      \"user_name\":{\n",
    "        \"type\": \"text\"\n",
    "      },\n",
    "      \"user_code\":{\n",
    "        \"type\": \"keyword\"\n",
    "      },\n",
    "      \"time_stamp\":{\n",
    "        \"type\": \"date\",\n",
    "        \"format\": \"epoch_millis\"\n",
    "      },\n",
    "      \"sensor\":{\n",
    "        \"properties\": {\n",
    "          \"Timestamp\": {\n",
    "            \"type\":\"date\",\n",
    "            \"format\":\"epoch_millis\"\n",
    "          },\n",
    "          \"Vehicle's speed (in m/s)\": {\"type\": \"float\"},\n",
    "          \"Shift number (0 = intermediate position)\": {\"type\": \"float\"},\n",
    "          \"Engine Load (% of max power)\": {\"type\":\"float\"},\n",
    "          \"Total Acceleration (m/s^2)\": {\"type\": \"float\"},\n",
    "          \"Engine RPM\": {\"type\": \"float\"}\n",
    "\n",
    "        }\n",
    "      },\n",
    "      \"relation_type\":{\n",
    "        \"type\": \"join\",\n",
    "        \"relations\":{\n",
    "          \"user\":\"sensor\"\n",
    "        }\n",
    "      }\n",
    "    }\n",
    "  }\n",
    "}"
   ]
  },
  {
   "cell_type": "code",
   "execution_count": 138,
   "metadata": {
    "pycharm": {
     "is_executing": false,
     "name": "#%%\n"
    }
   },
   "outputs": [
    {
     "data": {
      "text/plain": [
       "{'acknowledged': True, 'shards_acknowledged': True, 'index': 'es_workshop'}"
      ]
     },
     "execution_count": 138,
     "metadata": {},
     "output_type": "execute_result"
    }
   ],
   "source": [
    "index_name = \"es_workshop\"\n",
    "resp = es.indices.create(index=index_name, body=mapping)\n",
    "resp"
   ]
  },
  {
   "cell_type": "markdown",
   "metadata": {
    "pycharm": {
     "name": "#%% md\n"
    }
   },
   "source": [
    "Indexar usuarios con bulk. Se puede pero no se debe, se pierde la relación **parent**, **child**"
   ]
  },
  {
   "cell_type": "code",
   "execution_count": 129,
   "metadata": {
    "pycharm": {
     "is_executing": false,
     "name": "#%%\n"
    }
   },
   "outputs": [],
   "source": [
    "# users_json = [\n",
    "#     {\"user_name\":\"Efra\",\n",
    "#      \"user_code\": 123,\n",
    "#      \"time_stamp\": 1580250575.856432,\n",
    "#      \"relation_type\":{\"name\": \"user\"}}, \n",
    "#     {\"user_name\":\"Lenno\",\n",
    "#      \"user_code\": 456,\n",
    "#      \"time_stamp\": 1000166400.5,\n",
    "#      \"relation_type\":{\"name\": \"user\"}}]"
   ]
  },
  {
   "cell_type": "code",
   "execution_count": 130,
   "metadata": {
    "pycharm": {
     "is_executing": false,
     "name": "#%%\n"
    }
   },
   "outputs": [
    {
     "name": "stdout",
     "output_type": "stream",
     "text": [
      "Efra 123\n",
      "Lenno 456\n"
     ]
    },
    {
     "data": {
      "text/plain": [
       "(2, [])"
      ]
     },
     "execution_count": 130,
     "metadata": {},
     "output_type": "execute_result"
    }
   ],
   "source": [
    "# from elasticsearch.helpers import bulk\n",
    "# actions = []\n",
    "# for i, row in enumerate(users_json):\n",
    "#     print(row['user_name'], row['user_code'])\n",
    "#     actions.append({\"_op_type\": \"index\",\n",
    "#                    \"_index\": index_name,\n",
    "#                    \"_id\": i,\n",
    "#                    \"_routing\": row['user_name'],\n",
    "#                    \"_source\": row})\n",
    "#     resp = bulk(es, actions=actions)\n",
    "# resp\n"
   ]
  },
  {
   "cell_type": "markdown",
   "metadata": {},
   "source": [
    "Ingreso de usuarios con PUT. Este comando permite mantener las relaciones de **routing**"
   ]
  },
  {
   "cell_type": "code",
   "execution_count": 139,
   "metadata": {},
   "outputs": [
    {
     "data": {
      "text/plain": [
       "{'_index': 'es_workshop',\n",
       " '_type': '_doc',\n",
       " '_id': '1',\n",
       " '_version': 1,\n",
       " 'result': 'created',\n",
       " '_shards': {'total': 1, 'successful': 1, 'failed': 0},\n",
       " '_seq_no': 0,\n",
       " '_primary_term': 1}"
      ]
     },
     "execution_count": 139,
     "metadata": {},
     "output_type": "execute_result"
    }
   ],
   "source": [
    "user_1={\n",
    "  \"user_name\":\"Efra\",\n",
    "  \"user_code\": 123,\n",
    "  \"time_stamp\": 1580250575.856432,\n",
    "  \"relation_type\":{\"name\": \"user\"}\n",
    "}\n",
    "\n",
    "resp = es.index(index=index_name, id=1, body=user_1, routing=\"Efra\")\n",
    "resp"
   ]
  },
  {
   "cell_type": "code",
   "execution_count": 140,
   "metadata": {},
   "outputs": [
    {
     "data": {
      "text/plain": [
       "{'_index': 'es_workshop',\n",
       " '_type': '_doc',\n",
       " '_id': '2',\n",
       " '_version': 1,\n",
       " 'result': 'created',\n",
       " '_shards': {'total': 1, 'successful': 1, 'failed': 0},\n",
       " '_seq_no': 1,\n",
       " '_primary_term': 1}"
      ]
     },
     "execution_count": 140,
     "metadata": {},
     "output_type": "execute_result"
    }
   ],
   "source": [
    "user_2={\n",
    "  \"user_name\":\"Lenno\",\n",
    "  \"user_code\": 456,\n",
    "  \"time_stamp\": 1000166400.5,\n",
    "  \"relation_type\":{\"name\": \"user\"}\n",
    "}\n",
    "resp = es.index(index=index_name, id=2, body=user_2, routing=\"Lenno\")\n",
    "resp"
   ]
  },
  {
   "cell_type": "markdown",
   "metadata": {},
   "source": [
    "Ingresando datos a cada usuario con **bulk**. El formato presentado permite mandar los datos como bulk, pero los datos no son debidamente ingresados en el es"
   ]
  },
  {
   "cell_type": "code",
   "execution_count": 109,
   "metadata": {
    "pycharm": {
     "is_executing": false,
     "name": "#%%\n"
    }
   },
   "outputs": [],
   "source": [
    "# data = [\n",
    "#         {\"Timestamp\": 1000166400.5,\n",
    "#          \"Vehicle's speed (in m/s)\": 0.055034000000000007,\n",
    "#          \"Shift number (0 = intermediate position)\": 0.0,\n",
    "#          \"Engine Load (% of max power)\": -1.0,\n",
    "#          \"Total Acceleration (m/s^2)\": 0.020479,\n",
    "#          \"Engine RPM\": 608.63, \"relation_type\":{\"name\":\"sensor\", \"parent\":1}}, \n",
    "#         {\"Timestamp\": 1000166400.51,\n",
    "#          \"Vehicle's speed (in m/s)\": 0.056112999999999996,\n",
    "#          \"Shift number (0 = intermediate position)\": 0.0,\n",
    "#          \"Engine Load (% of max power)\": -1.0,\n",
    "#          \"Total Acceleration (m/s^2)\": 0.007929899999999998,\n",
    "#          \"Engine RPM\": 623.47, \"relation_type\":{\"name\":\"sensor\", \"parent\":1}},\n",
    "#         {\"Timestamp\": 1000166400.53,\n",
    "#          \"Vehicle's speed (in m/s)\": 0.060233,\n",
    "#          \"Shift number (0 = intermediate position)\": 0.0,\n",
    "#          \"Engine Load (% of max power)\": -1.0,\n",
    "#          \"Total Acceleration (m/s^2)\": -0.009987200000000002,\n",
    "#          \"Engine RPM\": 653.14,\"relation_type\":{ \"name\": \"sensor\", \"parent\": 2}}]\n"
   ]
  },
  {
   "cell_type": "markdown",
   "metadata": {},
   "source": [
    "Diccionario padre - nombre"
   ]
  },
  {
   "cell_type": "code",
   "execution_count": 110,
   "metadata": {},
   "outputs": [],
   "source": [
    "# users_parent_dict = {1:\"Efra\", 2:\"Lenno\"}"
   ]
  },
  {
   "cell_type": "markdown",
   "metadata": {},
   "source": [
    "Ingresando la data en bulk"
   ]
  },
  {
   "cell_type": "code",
   "execution_count": 111,
   "metadata": {
    "pycharm": {
     "is_executing": false,
     "name": "#%%\n"
    }
   },
   "outputs": [],
   "source": [
    "# actions = []\n",
    "# for i, row in enumerate(data):\n",
    "#     user_parent_number = row['relation_type']['parent']\n",
    "#     actions.append({\"_op_type\": \"index\",\n",
    "#                    \"_index\": index_name,\n",
    "#                    \"_id\": \"p\"+str(user_parent_number)+\"-\"+str(i),\n",
    "#                    \"_routing\": users_parent_dict[user_parent_number],\n",
    "#                    \"_source\": row})\n",
    "#     resp = bulk(es, actions=actions)\n",
    "# resp\n"
   ]
  },
  {
   "cell_type": "markdown",
   "metadata": {
    "pycharm": {
     "name": "#%% md\n"
    }
   },
   "source": [
    "Ingresando datos de medidas para usuario 1"
   ]
  },
  {
   "cell_type": "code",
   "execution_count": 141,
   "metadata": {
    "pycharm": {
     "name": "#%%\n"
    }
   },
   "outputs": [
    {
     "data": {
      "text/plain": [
       "{'_index': 'es_workshop',\n",
       " '_type': '_doc',\n",
       " '_id': 'u123-1',\n",
       " '_version': 1,\n",
       " 'result': 'created',\n",
       " '_shards': {'total': 1, 'successful': 1, 'failed': 0},\n",
       " '_seq_no': 2,\n",
       " '_primary_term': 1}"
      ]
     },
     "execution_count": 141,
     "metadata": {},
     "output_type": "execute_result"
    }
   ],
   "source": [
    "datax = {\"sensor\":{\n",
    "              \"Timestamp\": 2222166400.5,\n",
    "              \"Vehicle's speed (in m/s)\": 2.2552347,\n",
    "              \"Shift number (0 = intermediate position)\": 2.2,\n",
    "              \"Engine Load (% of max power)\": -2.0,\n",
    "              \"Total Acceleration (m/s^2)\": 2.020479,\n",
    "              \"Engine RPM\": 2608.63\n",
    "            \n",
    "  }, \"relation_type\":{\"name\":\"sensor\", \"parent\":1}}\n",
    "\n",
    "resp = es.index(index=index_name, id='u123-1', body=datax, routing=\"Efra\")\n",
    "resp\n",
    "\n"
   ]
  },
  {
   "cell_type": "code",
   "execution_count": 142,
   "metadata": {},
   "outputs": [
    {
     "data": {
      "text/plain": [
       "{'_index': 'es_workshop',\n",
       " '_type': '_doc',\n",
       " '_id': 'u123-2',\n",
       " '_version': 1,\n",
       " 'result': 'created',\n",
       " '_shards': {'total': 1, 'successful': 1, 'failed': 0},\n",
       " '_seq_no': 3,\n",
       " '_primary_term': 1}"
      ]
     },
     "execution_count": 142,
     "metadata": {},
     "output_type": "execute_result"
    }
   ],
   "source": [
    "datax = {\"sensor\":{\n",
    "              \"Timestamp\": 1000166400.51,\n",
    "              \"Vehicle's speed (in m/s)\": 0.056112999999999996,\n",
    "              \"Shift number (0 = intermediate position)\": 0.0,\n",
    "              \"Engine Load (% of max power)\": -1.0,\n",
    "              \"Total Acceleration (m/s^2)\": 0.007929899999999998,\n",
    "              \"Engine RPM\": 623.47\n",
    "            \n",
    "  }, \"relation_type\":{\"name\":\"sensor\", \"parent\":1}}\n",
    "resp = es.index(index=index_name, id='u123-2', body=datax, routing=\"Efra\")\n",
    "resp"
   ]
  },
  {
   "cell_type": "markdown",
   "metadata": {},
   "source": [
    "Ingresando un dato inicial en **user 2**"
   ]
  },
  {
   "cell_type": "code",
   "execution_count": 143,
   "metadata": {},
   "outputs": [
    {
     "data": {
      "text/plain": [
       "{'_index': 'es_workshop',\n",
       " '_type': '_doc',\n",
       " '_id': 'u456-1',\n",
       " '_version': 1,\n",
       " 'result': 'created',\n",
       " '_shards': {'total': 1, 'successful': 1, 'failed': 0},\n",
       " '_seq_no': 4,\n",
       " '_primary_term': 1}"
      ]
     },
     "execution_count": 143,
     "metadata": {},
     "output_type": "execute_result"
    }
   ],
   "source": [
    "datax = {\n",
    "     \"sensor\":{\"Timestamp\": 1000166400.53,\n",
    "     \"Vehicle's speed (in m/s)\": 0.060233,\n",
    "       \"Shift number (0 = intermediate position)\": 0.0,\n",
    "       \"Engine Load (% of max power)\": -1.0,\n",
    "       \"Total Acceleration (m/s^2)\": -0.009987200000000002,\n",
    "       \"Engine RPM\": 653.14},\n",
    "     \"relation_type\":{\"name\": \"sensor\", \"parent\": 2}}\n",
    "\n",
    "resp = es.index(index=index_name, id='u456-1', body=datax, routing=\"Lenno\")\n",
    "resp"
   ]
  },
  {
   "cell_type": "code",
   "execution_count": 149,
   "metadata": {},
   "outputs": [
    {
     "data": {
      "text/plain": [
       "{'_index': 'es_workshop',\n",
       " '_type': '_doc',\n",
       " '_id': 'u456-2',\n",
       " '_version': 1,\n",
       " 'result': 'created',\n",
       " '_shards': {'total': 1, 'successful': 1, 'failed': 0},\n",
       " '_seq_no': 5,\n",
       " '_primary_term': 1}"
      ]
     },
     "execution_count": 149,
     "metadata": {},
     "output_type": "execute_result"
    }
   ],
   "source": [
    "datax = {\n",
    "        \"sensor\":{\"Timestamp\": 1111111.11,\n",
    "        \"Vehicle's speed (in m/s)\": 6.666233,\n",
    "        \"Shift number (0 = intermediate position)\": 1.1,\n",
    "        \"Engine Load (% of max power)\": -6.6,\n",
    "        \"Total Acceleration (m/s^2)\": -6.0002,\n",
    "        \"Engine RPM\": 1200.00},\n",
    "        \"relation_type\":{\"name\": \"sensor\", \"parent\": 2}\n",
    "}\n",
    "resp = es.index(index=index_name, id='u456-2', body=datax, routing='Lenno')\n",
    "resp"
   ]
  },
  {
   "cell_type": "markdown",
   "metadata": {},
   "source": [
    "Obtener todos los hijos de un usuario por Código de Usuario"
   ]
  },
  {
   "cell_type": "code",
   "execution_count": 150,
   "metadata": {},
   "outputs": [
    {
     "name": "stdout",
     "output_type": "stream",
     "text": [
      "Got 2 Hits:\n",
      "Lenno: {'sensor': {'Timestamp': 1000166400.53, \"Vehicle's speed (in m/s)\": 0.060233, 'Shift number (0 = intermediate position)': 0.0, 'Engine Load (% of max power)': -1.0, 'Total Acceleration (m/s^2)': -0.009987200000000002, 'Engine RPM': 653.14}, 'relation_type': {'name': 'sensor', 'parent': 2}}\n",
      "Lenno: {'sensor': {'Timestamp': 1111111.11, \"Vehicle's speed (in m/s)\": 6.666233, 'Shift number (0 = intermediate position)': 1.1, 'Engine Load (% of max power)': -6.6, 'Total Acceleration (m/s^2)': -6.0002, 'Engine RPM': 1200.0}, 'relation_type': {'name': 'sensor', 'parent': 2}}\n"
     ]
    }
   ],
   "source": [
    "resp = es.search(index=index_name, body={\"query\": {\"has_parent\": {\"parent_type\": \"user\",\n",
    "                                                           \"query\": {\"match\": {\"user_code\": \"456\" }}}}})\n",
    "print(\"Got %d Hits:\" % resp['hits']['total']['value'])\n",
    "for hit in resp['hits']['hits']:\n",
    "    print(\"{}: {}\".format(hit[\"_routing\"],hit[\"_source\"]))"
   ]
  }
 ],
 "metadata": {
  "kernelspec": {
   "display_name": "Python [conda env:MachineLearning] *",
   "language": "python",
   "name": "conda-env-MachineLearning-py"
  },
  "language_info": {
   "codemirror_mode": {
    "name": "ipython",
    "version": 3
   },
   "file_extension": ".py",
   "mimetype": "text/x-python",
   "name": "python",
   "nbconvert_exporter": "python",
   "pygments_lexer": "ipython3",
   "version": "3.6.4"
  },
  "pycharm": {
   "stem_cell": {
    "cell_type": "raw",
    "metadata": {
     "collapsed": false
    },
    "source": []
   }
  }
 },
 "nbformat": 4,
 "nbformat_minor": 1
}
